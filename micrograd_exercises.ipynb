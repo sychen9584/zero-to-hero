{
  "nbformat": 4,
  "nbformat_minor": 0,
  "metadata": {
    "colab": {
      "provenance": []
    },
    "kernelspec": {
      "name": "python3",
      "display_name": "Python 3"
    },
    "language_info": {
      "name": "python"
    }
  },
  "cells": [
    {
      "cell_type": "markdown",
      "source": [
        "# micrograd exercises\n",
        "\n",
        "1. watch the [micrograd video](https://www.youtube.com/watch?v=VMj-3S1tku0) on YouTube\n",
        "2. come back and complete these exercises to level up :)"
      ],
      "metadata": {
        "id": "JnGHatCI51JP"
      }
    },
    {
      "cell_type": "markdown",
      "source": [
        "## section 1: derivatives"
      ],
      "metadata": {
        "id": "OFt6NKOz6iBZ"
      }
    },
    {
      "cell_type": "code",
      "source": [
        "# here is a mathematical expression that takes 3 inputs and produces one output\n",
        "from math import sin, cos\n",
        "\n",
        "def f(a, b, c):\n",
        "  return -a**3 + sin(3*b) - 1.0/c + b**2.5 - a**0.5\n",
        "\n",
        "print(f(2, 3, 4))"
      ],
      "metadata": {
        "id": "3Jx9fCXl5xHd",
        "outputId": "b90fa8a4-7400-438c-c400-520a2e48246e",
        "colab": {
          "base_uri": "https://localhost:8080/"
        }
      },
      "execution_count": 1,
      "outputs": [
        {
          "output_type": "stream",
          "name": "stdout",
          "text": [
            "6.336362190988558\n"
          ]
        }
      ]
    },
    {
      "cell_type": "code",
      "source": [
        "# write the function df that returns the analytical gradient of f\n",
        "# i.e. use your skills from calculus to take the derivative, then implement the formula\n",
        "# if you do not calculus then feel free to ask wolframalpha, e.g.:\n",
        "# https://www.wolframalpha.com/input?i=d%2Fda%28sin%283*a%29%29%29\n",
        "\n",
        "def gradf(a, b, c):\n",
        "  dfda = -3*a**2 - 0.5*a**(-0.5)\n",
        "  dfdb = 3*cos(3*b) + 2.5*b**1.5\n",
        "  dfdc = c**(-2)\n",
        "  return [dfda, dfdb, dfdc] # todo, return [df/da, df/db, df/dc]\n",
        "\n",
        "# expected answer is the list of\n",
        "ans = [-12.353553390593273, 10.25699027111255, 0.0625]\n",
        "yours = gradf(2, 3, 4)\n",
        "for dim in range(3):\n",
        "  ok = 'OK' if abs(yours[dim] - ans[dim]) < 1e-5 else 'WRONG!'\n",
        "  print(f\"{ok} for dim {dim}: expected {ans[dim]}, yours returns {yours[dim]}\")\n"
      ],
      "metadata": {
        "id": "qXaH59eL9zxf",
        "outputId": "2c48976d-844a-41aa-d8c5-79d5a6a3bc0e",
        "colab": {
          "base_uri": "https://localhost:8080/"
        }
      },
      "execution_count": 3,
      "outputs": [
        {
          "output_type": "stream",
          "name": "stdout",
          "text": [
            "OK for dim 0: expected -12.353553390593273, yours returns -12.353553390593273\n",
            "OK for dim 1: expected 10.25699027111255, yours returns 10.25699027111255\n",
            "OK for dim 2: expected 0.0625, yours returns 0.0625\n"
          ]
        }
      ]
    },
    {
      "cell_type": "code",
      "source": [
        "# now estimate the gradient numerically without any calculus, using\n",
        "# the approximation we used in the video.\n",
        "# you should not call the function df from the last cell\n",
        "\n",
        "# -----------\n",
        "h = 0.000001\n",
        "a_grad = (f(2 + h, 3, 4) - f(2, 3, 4)) / h\n",
        "b_grad = (f(2, 3 + h, 4) - f(2, 3, 4)) / h\n",
        "c_grad = (f(2, 3, 4 + h) - f(2, 3, 4)) / h\n",
        "numerical_grad = [a_grad, b_grad, c_grad] # TODO\n",
        "# -----------\n",
        "\n",
        "for dim in range(3):\n",
        "  ok = 'OK' if abs(numerical_grad[dim] - ans[dim]) < 1e-5 else 'WRONG!'\n",
        "  print(f\"{ok} for dim {dim}: expected {ans[dim]}, yours returns {numerical_grad[dim]}\")\n"
      ],
      "metadata": {
        "id": "_27n-KTA9Qla",
        "outputId": "c42b4f81-5330-45a1-c987-344039ae4b26",
        "colab": {
          "base_uri": "https://localhost:8080/"
        }
      },
      "execution_count": 8,
      "outputs": [
        {
          "output_type": "stream",
          "name": "stdout",
          "text": [
            "OK for dim 0: expected -12.353553390593273, yours returns -12.353559348809995\n",
            "OK for dim 1: expected 10.25699027111255, yours returns 10.256991666679482\n",
            "OK for dim 2: expected 0.0625, yours returns 0.062499984743169534\n"
          ]
        }
      ]
    },
    {
      "cell_type": "code",
      "source": [
        "# there is an alternative formula that provides a much better numerical\n",
        "# approximation to the derivative of a function.\n",
        "# learn about it here: https://en.wikipedia.org/wiki/Symmetric_derivative\n",
        "# implement it. confirm that for the same step size h this version gives a\n",
        "# better approximation.\n",
        "\n",
        "# -----------\n",
        "h = 0.000001\n",
        "a_grad = (f(2 + h, 3, 4) - f(2 - h, 3, 4)) / (2*h)\n",
        "b_grad = (f(2, 3 + h, 4) - f(2, 3-h, 4)) / (2*h)\n",
        "c_grad = (f(2, 3, 4 + h) - f(2, 3, 4-h)) / (2*h)\n",
        "numerical_grad2 = [a_grad, b_grad, c_grad] # TODO\n",
        "# -----------\n",
        "\n",
        "for dim in range(3):\n",
        "  ok = 'OK' if abs(numerical_grad2[dim] - ans[dim]) < 1e-5 else 'WRONG!'\n",
        "  print(f\"{ok} for dim {dim}: expected {ans[dim]}, yours returns {numerical_grad2[dim]}\")\n"
      ],
      "metadata": {
        "id": "BUqsGb5o_h2P",
        "outputId": "11359d78-2aa7-409b-e056-600bb26e4e27",
        "colab": {
          "base_uri": "https://localhost:8080/"
        }
      },
      "execution_count": 10,
      "outputs": [
        {
          "output_type": "stream",
          "name": "stdout",
          "text": [
            "OK for dim 0: expected -12.353553390593273, yours returns -12.353553391353245\n",
            "OK for dim 1: expected 10.25699027111255, yours returns 10.25699027401572\n",
            "OK for dim 2: expected 0.0625, yours returns 0.06250000028629188\n"
          ]
        }
      ]
    },
    {
      "cell_type": "markdown",
      "source": [
        "## section 2: support for softmax"
      ],
      "metadata": {
        "id": "tklF9s_4AtlI"
      }
    },
    {
      "cell_type": "code",
      "source": [
        "# Value class starter code, with many functions taken out\n",
        "from math import exp, log\n",
        "\n",
        "class Value:\n",
        "\n",
        "  def __init__(self, data, _children=(), _op='', label=''):\n",
        "    self.data = data\n",
        "    self.grad = 0.0\n",
        "    self._backward = lambda: None\n",
        "    self._prev = set(_children)\n",
        "    self._op = _op\n",
        "    self.label = label\n",
        "\n",
        "  def __repr__(self):\n",
        "    return f\"Value(data={self.data})\"\n",
        "\n",
        "  def __add__(self, other): # exactly as in the video\n",
        "    other = other if isinstance(other, Value) else Value(other)\n",
        "    out = Value(self.data + other.data, (self, other), '+')\n",
        "\n",
        "    def _backward():\n",
        "      self.grad += 1.0 * out.grad\n",
        "      other.grad += 1.0 * out.grad\n",
        "    out._backward = _backward\n",
        "\n",
        "    return out\n",
        "\n",
        "  # ------\n",
        "  # re-implement all the other functions needed for the exercises below\n",
        "  # your code here\n",
        "\n",
        "  def __mul__(self, other):\n",
        "    other = other if isinstance(other, Value) else Value(other)\n",
        "    out = Value(self.data * other.data, (self, other), '*')\n",
        "\n",
        "    def _backward():\n",
        "      self.grad += other.data * out.grad\n",
        "      other.grad += self.data * out.grad\n",
        "    out._backward = _backward\n",
        "\n",
        "    return out\n",
        "\n",
        "  def __radd__(self, other):\n",
        "    return self + other\n",
        "\n",
        "  def __rmul__(self, other):\n",
        "    return self * other\n",
        "\n",
        "  def __pow__(self, other):\n",
        "    assert isinstance(other, (int, float))\n",
        "    out = Value(self.data**other, (self,), f'**{other}')\n",
        "\n",
        "    def _backward():\n",
        "      self.grad += (other * self.data**(other-1)) * out.grad\n",
        "    out._backward = _backward\n",
        "\n",
        "    return out\n",
        "\n",
        "  def __truediv__(self, other):\n",
        "    other = other if isinstance(other, Value) else Value(other)\n",
        "    out =  self * other**(-1)\n",
        "\n",
        "    def _backward():\n",
        "      self.grad += (1 / other.data) * out.grad\n",
        "      other.grad -= (self.data / (other.data**2)) * out.grad\n",
        "    out._backward = _backward\n",
        "\n",
        "    return out\n",
        "\n",
        "  def __neg__(self):\n",
        "    return -1 * self\n",
        "\n",
        "  def __sub__(self, other):\n",
        "    return self + (-other)\n",
        "\n",
        "  def exp(self):\n",
        "    x = self.data\n",
        "    out = Value(exp(x), (self, ), 'exp')\n",
        "\n",
        "    def _backward():\n",
        "      self.grad += out.data * out.grad\n",
        "    out._backward = _backward\n",
        "\n",
        "    return out\n",
        "\n",
        "  def log(self):\n",
        "    assert self.data > 0, \"Log function is only defined for positive numbers\"\n",
        "    x = self.data\n",
        "    out = Value(log(x), (self, ), 'log')\n",
        "\n",
        "    def _backward():\n",
        "      self.grad += (1/self.data) * out.grad\n",
        "    out._backward = _backward\n",
        "\n",
        "    return out\n",
        "\n",
        "  def tanh(self):\n",
        "    x = self.data\n",
        "    t = (exp(2*x) - 1)/(exp(2*x) + 1)\n",
        "    out = Value(t, (self,), 'tanh')\n",
        "\n",
        "    def _backward():\n",
        "      self.grad += (1 - t**2) * out.grad\n",
        "    out._backward = _backward\n",
        "\n",
        "    return out\n",
        "\n",
        "  # ------\n",
        "\n",
        "  def backward(self): # exactly as in video\n",
        "    topo = []\n",
        "    visited = set()\n",
        "    def build_topo(v):\n",
        "      if v not in visited:\n",
        "        visited.add(v)\n",
        "        for child in v._prev:\n",
        "          build_topo(child)\n",
        "        topo.append(v)\n",
        "    build_topo(self)\n",
        "\n",
        "    self.grad = 1.0\n",
        "    for node in reversed(topo):\n",
        "      node._backward()"
      ],
      "metadata": {
        "id": "nAPe_RVrCTeO"
      },
      "execution_count": 73,
      "outputs": []
    },
    {
      "cell_type": "code",
      "source": [
        "# without referencing our code/video __too__ much, make this cell work\n",
        "# you'll have to implement (in some cases re-implemented) a number of functions\n",
        "# of the Value object, similar to what we've seen in the video.\n",
        "# instead of the squared error loss this implements the negative log likelihood\n",
        "# loss, which is very often used in classification.\n",
        "\n",
        "# this is the softmax function\n",
        "# https://en.wikipedia.org/wiki/Softmax_function\n",
        "def softmax(logits):\n",
        "  counts = [logit.exp() for logit in logits]\n",
        "  denominator = sum(counts)\n",
        "  #out = [c / denominator for c in counts]\n",
        "  # Explicitly compute reciprocal to track gradient correctly\n",
        "  inv_denominator = denominator**-1\n",
        "  out = [c * inv_denominator for c in counts]  # Instead of c / denominator\n",
        "  return out\n",
        "\n",
        "# this is the negative log likelihood loss function, pervasive in classification\n",
        "logits = [Value(0.0), Value(3.0), Value(-2.0), Value(1.0)]\n",
        "probs = softmax(logits)\n",
        "loss = -probs[3].log() # dim 3 acts as the label for this input example\n",
        "loss.backward()\n",
        "print(loss.data)\n",
        "\n",
        "ans = [0.041772570515350445, 0.8390245074625319, 0.005653302662216329, -0.8864503806400986]\n",
        "for dim in range(4):\n",
        "  ok = 'OK' if abs(logits[dim].grad - ans[dim]) < 1e-5 else 'WRONG!'\n",
        "  print(f\"{ok} for dim {dim}: expected {ans[dim]}, yours returns {logits[dim].grad}\")\n"
      ],
      "metadata": {
        "id": "VgWvwVQNAvnI",
        "outputId": "a2b59819-b548-4146-853e-fbacebbbba43",
        "colab": {
          "base_uri": "https://localhost:8080/"
        }
      },
      "execution_count": 76,
      "outputs": [
        {
          "output_type": "stream",
          "name": "stdout",
          "text": [
            "2.1755153626167147\n",
            "OK for dim 0: expected 0.041772570515350445, yours returns 0.041772570515350445\n",
            "OK for dim 1: expected 0.8390245074625319, yours returns 0.8390245074625319\n",
            "OK for dim 2: expected 0.005653302662216329, yours returns 0.005653302662216329\n",
            "OK for dim 3: expected -0.8864503806400986, yours returns -0.8864503806400986\n"
          ]
        }
      ]
    },
    {
      "cell_type": "code",
      "source": [
        "# verify the gradient using the torch library\n",
        "# torch should give you the exact same gradient\n",
        "import torch\n",
        "import numpy as np\n",
        "logits = torch.tensor([0.0, 3.0, -2.0, 1.0], requires_grad=True)\n",
        "probs = torch.softmax(logits, dim=0)\n",
        "loss = -torch.log(probs[3])\n",
        "loss.backward()\n",
        "logits.grad"
      ],
      "metadata": {
        "id": "q7ca1SVAGG1S",
        "outputId": "81c21f32-5ab6-44b4-a4b5-423a5ffa26da",
        "colab": {
          "base_uri": "https://localhost:8080/"
        }
      },
      "execution_count": 87,
      "outputs": [
        {
          "output_type": "execute_result",
          "data": {
            "text/plain": [
              "tensor([ 0.0418,  0.8390,  0.0057, -0.8865])"
            ]
          },
          "metadata": {},
          "execution_count": 87
        }
      ]
    },
    {
      "cell_type": "code",
      "source": [],
      "metadata": {
        "id": "nXPdVf1v1Dbz"
      },
      "execution_count": null,
      "outputs": []
    }
  ]
}